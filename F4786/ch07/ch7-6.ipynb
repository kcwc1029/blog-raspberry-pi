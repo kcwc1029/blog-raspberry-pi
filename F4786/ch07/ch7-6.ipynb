{
 "cells": [
  {
   "cell_type": "code",
   "execution_count": 1,
   "id": "976b1cfb-47df-4ac7-b36e-f953f7b0ca2b",
   "metadata": {},
   "outputs": [
    {
     "name": "stdout",
     "output_type": "stream",
     "text": [
      "Running on local URL:  http://raspberrypi.local:7860\n",
      "\n",
      "To create a public link, set `share=True` in `launch()`.\n"
     ]
    },
    {
     "data": {
      "text/html": [
       "<div><iframe src=\"http://raspberrypi.local:7860/\" width=\"100%\" height=\"500\" allow=\"autoplay; camera; microphone; clipboard-read; clipboard-write;\" frameborder=\"0\" allowfullscreen></iframe></div>"
      ],
      "text/plain": [
       "<IPython.core.display.HTML object>"
      ]
     },
     "metadata": {},
     "output_type": "display_data"
    },
    {
     "data": {
      "text/plain": []
     },
     "execution_count": 1,
     "metadata": {},
     "output_type": "execute_result"
    }
   ],
   "source": [
    "import gradio as gr\n",
    "from openai import OpenAI\n",
    "from gpiozero import LED\n",
    "\n",
    "api_key = \"<API-KEY>\"\n",
    "client = OpenAI(api_key=api_key)\n",
    "led = LED(18)\n",
    "\n",
    "def get_response(prompt):\n",
    "    input_msg = \"請分析下列文字內容的語意是開啟或關閉燈光, 開啟回答ON; 關閉回答OFF\"\n",
    "    response = client.chat.completions.create(\n",
    "      model = \"gpt-3.5-turbo\",      \n",
    "      messages = [\n",
    "            {\"role\": \"system\", \"content\": \"你是一位語意分析機器人\"},\n",
    "            {\"role\": \"user\", \"content\": input_msg + \"\\n\" + prompt}\n",
    "                 ]\n",
    "    )\n",
    "    reply_msg = response.choices[0].message.content\n",
    "    if reply_msg ==\"ON\":\n",
    "        led.on()\n",
    "    else:\n",
    "        led.off()\n",
    "\n",
    "    return reply_msg\n",
    "\n",
    "app = gr.Interface(fn=get_response,\n",
    "                   inputs=\"text\",\n",
    "                   outputs=\"text\")\n",
    "app.launch(server_name=\"raspberrypi.local\")"
   ]
  },
  {
   "cell_type": "code",
   "execution_count": null,
   "id": "f93b3b28-65fb-49f0-af57-9ca3e799e270",
   "metadata": {},
   "outputs": [],
   "source": []
  }
 ],
 "metadata": {
  "kernelspec": {
   "display_name": "Python 3 (ipykernel)",
   "language": "python",
   "name": "python3"
  },
  "language_info": {
   "codemirror_mode": {
    "name": "ipython",
    "version": 3
   },
   "file_extension": ".py",
   "mimetype": "text/x-python",
   "name": "python",
   "nbconvert_exporter": "python",
   "pygments_lexer": "ipython3",
   "version": "3.11.2"
  }
 },
 "nbformat": 4,
 "nbformat_minor": 5
}
