{
 "cells": [
  {
   "cell_type": "code",
   "execution_count": 1,
   "id": "4cdbdbb9-4b6b-4cf8-b46d-b10c547d1b59",
   "metadata": {},
   "outputs": [
    {
     "name": "stderr",
     "output_type": "stream",
     "text": [
      "ERROR:    [Errno 98] error while attempting to bind on address ('192.168.1.116', 7860): address already in use\n",
      "ERROR:    [Errno 98] error while attempting to bind on address ('192.168.1.116', 7861): address already in use\n",
      "ERROR:    [Errno 98] error while attempting to bind on address ('192.168.1.116', 7862): address already in use\n",
      "ERROR:    [Errno 98] error while attempting to bind on address ('192.168.1.116', 7863): address already in use\n"
     ]
    },
    {
     "name": "stdout",
     "output_type": "stream",
     "text": [
      "Running on local URL:  http://raspberrypi.local:7864\n",
      "\n",
      "To create a public link, set `share=True` in `launch()`.\n"
     ]
    },
    {
     "data": {
      "text/html": [
       "<div><iframe src=\"http://raspberrypi.local:7864/\" width=\"100%\" height=\"500\" allow=\"autoplay; camera; microphone; clipboard-read; clipboard-write;\" frameborder=\"0\" allowfullscreen></iframe></div>"
      ],
      "text/plain": [
       "<IPython.core.display.HTML object>"
      ]
     },
     "metadata": {},
     "output_type": "display_data"
    },
    {
     "data": {
      "text/plain": []
     },
     "execution_count": 1,
     "metadata": {},
     "output_type": "execute_result"
    },
    {
     "name": "stderr",
     "output_type": "stream",
     "text": [
      "Traceback (most recent call last):\n",
      "  File \"/home/pi/miniforge/envs/ai/lib/python3.11/site-packages/gradio/queueing.py\", line 536, in process_events\n",
      "    response = await route_utils.call_process_api(\n",
      "               ^^^^^^^^^^^^^^^^^^^^^^^^^^^^^^^^^^^\n",
      "  File \"/home/pi/miniforge/envs/ai/lib/python3.11/site-packages/gradio/route_utils.py\", line 288, in call_process_api\n",
      "    output = await app.get_blocks().process_api(\n",
      "             ^^^^^^^^^^^^^^^^^^^^^^^^^^^^^^^^^^^\n",
      "  File \"/home/pi/miniforge/envs/ai/lib/python3.11/site-packages/gradio/blocks.py\", line 1931, in process_api\n",
      "    result = await self.call_function(\n",
      "             ^^^^^^^^^^^^^^^^^^^^^^^^^\n",
      "  File \"/home/pi/miniforge/envs/ai/lib/python3.11/site-packages/gradio/blocks.py\", line 1516, in call_function\n",
      "    prediction = await anyio.to_thread.run_sync(  # type: ignore\n",
      "                 ^^^^^^^^^^^^^^^^^^^^^^^^^^^^^^^^^^^^^^^^^^^^^^^\n",
      "  File \"/home/pi/miniforge/envs/ai/lib/python3.11/site-packages/anyio/to_thread.py\", line 56, in run_sync\n",
      "    return await get_async_backend().run_sync_in_worker_thread(\n",
      "           ^^^^^^^^^^^^^^^^^^^^^^^^^^^^^^^^^^^^^^^^^^^^^^^^^^^^\n",
      "  File \"/home/pi/miniforge/envs/ai/lib/python3.11/site-packages/anyio/_backends/_asyncio.py\", line 2177, in run_sync_in_worker_thread\n",
      "    return await future\n",
      "           ^^^^^^^^^^^^\n",
      "  File \"/home/pi/miniforge/envs/ai/lib/python3.11/site-packages/anyio/_backends/_asyncio.py\", line 859, in run\n",
      "    result = context.run(func, *args)\n",
      "             ^^^^^^^^^^^^^^^^^^^^^^^^\n",
      "  File \"/home/pi/miniforge/envs/ai/lib/python3.11/site-packages/gradio/utils.py\", line 826, in wrapper\n",
      "    response = f(*args, **kwargs)\n",
      "               ^^^^^^^^^^^^^^^^^^\n",
      "  File \"/tmp/ipykernel_5177/3704381293.py\", line 6, in rgb2gray\n",
      "    img = Image.fromarray(input)\n",
      "          ^^^^^^^^^^^^^^^^^^^^^^\n",
      "  File \"/home/pi/miniforge/envs/ai/lib/python3.11/site-packages/PIL/Image.py\", line 3266, in fromarray\n",
      "    arr = obj.__array_interface__\n",
      "          ^^^^^^^^^^^^^^^^^^^^^^^\n",
      "AttributeError: 'NoneType' object has no attribute '__array_interface__'\n"
     ]
    }
   ],
   "source": [
    "import numpy as np\n",
    "from PIL import Image\n",
    "import gradio as gr\n",
    "\n",
    "def rgb2gray(input):\n",
    "    img = Image.fromarray(input)\n",
    "    img = img.convert('L')\n",
    "    return np.array(img)\n",
    "    \n",
    "app = gr.Interface(rgb2gray,\n",
    "                   gr.Image(image_mode=\"RGB\"), \n",
    "                   \"image\")\n",
    "app.launch(server_name=\"raspberrypi.local\")"
   ]
  },
  {
   "cell_type": "code",
   "execution_count": null,
   "id": "b9f4b1d5-753b-48dc-9f17-de5674042ffd",
   "metadata": {},
   "outputs": [],
   "source": []
  }
 ],
 "metadata": {
  "kernelspec": {
   "display_name": "Python 3 (ipykernel)",
   "language": "python",
   "name": "python3"
  },
  "language_info": {
   "codemirror_mode": {
    "name": "ipython",
    "version": 3
   },
   "file_extension": ".py",
   "mimetype": "text/x-python",
   "name": "python",
   "nbconvert_exporter": "python",
   "pygments_lexer": "ipython3",
   "version": "3.11.2"
  }
 },
 "nbformat": 4,
 "nbformat_minor": 5
}
