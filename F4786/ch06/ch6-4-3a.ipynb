{
 "cells": [
  {
   "cell_type": "code",
   "execution_count": 3,
   "id": "2ba7fe8a-f5ec-4add-9be7-fe9a4d3d99c0",
   "metadata": {},
   "outputs": [
    {
     "name": "stderr",
     "output_type": "stream",
     "text": [
      "ERROR:    [Errno 98] error while attempting to bind on address ('192.168.1.116', 7860): address already in use\n",
      "ERROR:    [Errno 98] error while attempting to bind on address ('192.168.1.116', 7861): address already in use\n",
      "ERROR:    [Errno 98] error while attempting to bind on address ('192.168.1.116', 7862): address already in use\n"
     ]
    },
    {
     "name": "stdout",
     "output_type": "stream",
     "text": [
      "Running on local URL:  http://raspberrypi.local:7863\n",
      "\n",
      "To create a public link, set `share=True` in `launch()`.\n"
     ]
    },
    {
     "data": {
      "text/html": [
       "<div><iframe src=\"http://raspberrypi.local:7863/\" width=\"100%\" height=\"500\" allow=\"autoplay; camera; microphone; clipboard-read; clipboard-write;\" frameborder=\"0\" allowfullscreen></iframe></div>"
      ],
      "text/plain": [
       "<IPython.core.display.HTML object>"
      ]
     },
     "metadata": {},
     "output_type": "display_data"
    },
    {
     "data": {
      "text/plain": []
     },
     "execution_count": 3,
     "metadata": {},
     "output_type": "execute_result"
    }
   ],
   "source": [
    "import gradio as gr\n",
    "\n",
    "def greet(name):\n",
    "    return \"Hello \" + name + \"!\"\n",
    "\n",
    "inputs = gr.Textbox(lines=2, placeholder=\"請輸入姓名...\", \n",
    "                    label=\"請輸入使用者姓名\")\n",
    "outputs = gr.Label()\n",
    "examples = [\"陳會安\", \"江小魚\"]\n",
    "app = gr.Interface(fn=greet,\n",
    "                   inputs=inputs,\n",
    "                   outputs=outputs,\n",
    "                   examples=examples, \n",
    "                   title = \"歡迎使用者\",\n",
    "                   description = \"輸入姓名顯示歡迎訊息\")\n",
    "app.launch(server_name=\"raspberrypi.local\")"
   ]
  },
  {
   "cell_type": "code",
   "execution_count": null,
   "id": "b9f4b1d5-753b-48dc-9f17-de5674042ffd",
   "metadata": {},
   "outputs": [],
   "source": []
  }
 ],
 "metadata": {
  "kernelspec": {
   "display_name": "Python 3 (ipykernel)",
   "language": "python",
   "name": "python3"
  },
  "language_info": {
   "codemirror_mode": {
    "name": "ipython",
    "version": 3
   },
   "file_extension": ".py",
   "mimetype": "text/x-python",
   "name": "python",
   "nbconvert_exporter": "python",
   "pygments_lexer": "ipython3",
   "version": "3.11.2"
  }
 },
 "nbformat": 4,
 "nbformat_minor": 5
}
